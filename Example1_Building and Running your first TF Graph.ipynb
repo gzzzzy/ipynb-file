{
 "cells": [
  {
   "cell_type": "code",
   "execution_count": null,
   "metadata": {
    "collapsed": true
   },
   "outputs": [],
   "source": [
    "# reference from tensorflow for machine intelligence"
   ]
  },
  {
   "cell_type": "code",
   "execution_count": 51,
   "metadata": {},
   "outputs": [],
   "source": [
    "import tensorflow as tf\n",
    "import numpy as np"
   ]
  },
  {
   "cell_type": "code",
   "execution_count": 52,
   "metadata": {
    "collapsed": true
   },
   "outputs": [],
   "source": [
    "# Create a Graph to start (note: this is not necessary)\n",
    "mygraph= tf.Graph()"
   ]
  },
  {
   "cell_type": "markdown",
   "metadata": {},
   "source": [
    "### Building the Graph"
   ]
  },
  {
   "cell_type": "markdown",
   "metadata": {},
   "source": [
    "在这个例子中 我们需要构建5块内容：\n",
    "\n",
    "1）variable： 用于存储两个变量\n",
    "   训练次数 （不参与训练）\n",
    "   output\n",
    "   \n",
    "2）transformation： 对输入参数进行变形\n",
    "   采用 placeholder\n",
    "\n",
    "3）update： 更新的规律\n",
    "\n",
    "4）summary 用于 tensor board scalars\n",
    "\n",
    "5）global_operations \n",
    "   初始化参数\n",
    "   merge summary"
   ]
  },
  {
   "cell_type": "code",
   "execution_count": 53,
   "metadata": {},
   "outputs": [],
   "source": [
    "# Set the graph we are working on\n",
    "with mygraph.as_default():\n",
    "    \n",
    "    # This name scope contains varibales not for trainning\n",
    "    with tf.name_scope('variables'):\n",
    "        # Variable indicating how many times the graph run\n",
    "        global_step = tf.Variable (0, dtype=tf.int32, trainable= False, name = 'global_step')\n",
    "        \n",
    "        # Variable of sum of outputs\n",
    "        total_outputs= tf.Variable (0.0, dtype=tf.float32, trainable= False, name = 'total_output')\n",
    "    \n",
    "    # This name scope contains varibales for transformation\n",
    "    with tf.name_scope('transformation'):\n",
    "        \n",
    "        # input name scope\n",
    "        with tf.name_scope('input'):\n",
    "            a= tf.placeholder(tf.float32,shape=(None), name= 'input_placeholder_a')\n",
    "        \n",
    "        # Middle name scope\n",
    "        with tf.name_scope('middle'):\n",
    "            b= tf.reduce_prod(a, name='production_b')\n",
    "            c= tf.reduce_sum(a, name='sum_c')\n",
    "        # output name scope\n",
    "        with tf.name_scope('output'):\n",
    "            output=tf.add(b,c, name='output')\n",
    "            \n",
    "    # This name scope used to update variables   \n",
    "    with tf.name_scope('update'):\n",
    "        # add output to total_output\n",
    "        update_total= total_outputs.assign_add (output)\n",
    "        total_step= global_step.assign_add(1)\n",
    "        \n",
    "    # This name scope create tensor board summaries \n",
    "    with tf.name_scope('summaries'):\n",
    "        average= tf.div(update_total, tf.cast(total_step,tf.float32), name= 'average')\n",
    "        tf.summary.scalar ('output_summary',output)\n",
    "        tf.summary.scalar ('total_summary',update_total)\n",
    "        tf.summary.scalar ('average_summary',average)\n",
    "        \n",
    "    with tf.name_scope('global_operations'):\n",
    "        # Initializes\n",
    "        init=tf.global_variables_initializer()\n",
    "        # Merge all summaries into one operation\n",
    "        merged_summaries = tf.summary.merge_all()\n",
    "        \n"
   ]
  },
  {
   "cell_type": "markdown",
   "metadata": {},
   "source": [
    "### Running the Graph : Session"
   ]
  },
  {
   "cell_type": "code",
   "execution_count": 54,
   "metadata": {},
   "outputs": [],
   "source": [
    "# Start a session, 指定我们之前建的 graph\n",
    "sess=tf.Session(graph=mygraph)\n",
    "# open a summary writer\n",
    "summary_writer=tf.summary.FileWriter('./example_1', sess.graph)"
   ]
  },
  {
   "cell_type": "code",
   "execution_count": 55,
   "metadata": {},
   "outputs": [],
   "source": [
    "sess.run(init)"
   ]
  },
  {
   "cell_type": "code",
   "execution_count": 56,
   "metadata": {
    "collapsed": true
   },
   "outputs": [],
   "source": [
    "def run_graph(input_tensor):\n",
    "    feed_dict={a: input_tensor}\n",
    "    outputs, step, summary = sess.run([output, total_step, merged_summaries], feed_dict=feed_dict)\n",
    "   \n",
    "    print(outputs)\n",
    "    print(step)\n",
    "    \n",
    "    summary_writer.add_summary(summary, global_step=step)\n",
    "    summary_writer.add_graph(sess.graph)"
   ]
  },
  {
   "cell_type": "code",
   "execution_count": 57,
   "metadata": {
    "scrolled": true
   },
   "outputs": [
    {
     "name": "stdout",
     "output_type": "stream",
     "text": [
      "26.0\n",
      "1\n",
      "8.0\n",
      "2\n",
      "10.0\n",
      "3\n",
      "835.0\n",
      "4\n",
      "1.0\n",
      "5\n",
      "1.0\n",
      "6\n"
     ]
    }
   ],
   "source": [
    "run_graph([2,8])\n",
    "run_graph([3,1,1])\n",
    "run_graph([5])\n",
    "run_graph([2,5,9,9])\n",
    "run_graph([1,0,0])\n",
    "run_graph([[1],[0],[0]])"
   ]
  },
  {
   "cell_type": "code",
   "execution_count": 9,
   "metadata": {},
   "outputs": [],
   "source": []
  },
  {
   "cell_type": "code",
   "execution_count": 44,
   "metadata": {
    "collapsed": true
   },
   "outputs": [],
   "source": [
    "# Call this method to make sure that all pending events have been written to disk.\n",
    "summary_writer.flush()"
   ]
  },
  {
   "cell_type": "code",
   "execution_count": 45,
   "metadata": {},
   "outputs": [],
   "source": [
    "summary_writer.close()\n",
    "sess.close()"
   ]
  },
  {
   "cell_type": "code",
   "execution_count": 58,
   "metadata": {},
   "outputs": [
    {
     "name": "stderr",
     "output_type": "stream",
     "text": [
      "'tensorboard' 不是内部或外部命令，也不是可运行的程序\n",
      "或批处理文件。\n"
     ]
    }
   ],
   "source": [
    "!tensorboard --logdir=./example_1"
   ]
  },
  {
   "cell_type": "code",
   "execution_count": null,
   "metadata": {
    "collapsed": true
   },
   "outputs": [],
   "source": []
  }
 ],
 "metadata": {
  "kernelspec": {
   "display_name": "tensorflow",
   "language": "python",
   "name": "tensorflow"
  },
  "language_info": {
   "codemirror_mode": {
    "name": "ipython",
    "version": 3
   },
   "file_extension": ".py",
   "mimetype": "text/x-python",
   "name": "python",
   "nbconvert_exporter": "python",
   "pygments_lexer": "ipython3",
   "version": "3.5.4"
  }
 },
 "nbformat": 4,
 "nbformat_minor": 1
}
