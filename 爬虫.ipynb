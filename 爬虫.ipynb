{
 "cells": [
  {
   "cell_type": "code",
   "execution_count": 15,
   "metadata": {},
   "outputs": [
    {
     "name": "stdout",
     "output_type": "stream",
     "text": [
      "[]\n"
     ]
    }
   ],
   "source": [
    "from urllib.request import urlopen\n",
    "from bs4 import BeautifulSoup\n",
    "from urllib.error import HTTPError\n",
    "from urllib.error import URLError\n",
    "\n",
    "try:\n",
    "    html=urlopen('https://www.sogou.com/tx?query=jupyter+%E6%9B%B4%E6%96%B0%E5%8C%85&_ast=1582011155&_asf=www.sogou.com&w=01029901&hdq=sogou-site-c91e3483cf4f9005-0001&duppid=1&cid=&s_from=result_up&sut=11783&sst0=1582011995501&lkt=0%2C0%2C0&sugsuv=00433C32711018F85D4100E959E6D367&sugtime=1582011995501')\n",
    "except HTTPError as e:\n",
    "    print(e)\n",
    "except URLError as e:\n",
    "    print('The server could not be found')\n",
    "else:\n",
    "    bs=BeautifulSoup(html,'html.parser')\n",
    "    print(bs.find_all('h1'))\n",
    "    #namelist=bs.find_all('span',class_='green')\n",
    "    #for name in namelist:\n",
    "        #print(name.get_text())\n",
    "    #theprince=bs.find_all(text='the prince')\n",
    "    #print(len(theprince))\n",
    "    #for sibling in bs.find('table',{'id':'giftList'},).tr.next_siblings:\n",
    "        #print(sibling)\n"
   ]
  },
  {
   "cell_type": "code",
   "execution_count": 2,
   "metadata": {},
   "outputs": [
    {
     "ename": "SyntaxError",
     "evalue": "invalid syntax (<ipython-input-2-8dfc0f7f6c5d>, line 1)",
     "output_type": "error",
     "traceback": [
      "\u001b[1;36m  File \u001b[1;32m\"<ipython-input-2-8dfc0f7f6c5d>\"\u001b[1;36m, line \u001b[1;32m1\u001b[0m\n\u001b[1;33m    [A-Z]*\u001b[0m\n\u001b[1;37m          ^\u001b[0m\n\u001b[1;31mSyntaxError\u001b[0m\u001b[1;31m:\u001b[0m invalid syntax\n"
     ]
    }
   ],
   "source": [
    "[A-Z]*\n"
   ]
  },
  {
   "cell_type": "code",
   "execution_count": null,
   "metadata": {},
   "outputs": [],
   "source": []
  }
 ],
 "metadata": {
  "kernelspec": {
   "display_name": "Python 3",
   "language": "python",
   "name": "python3"
  },
  "language_info": {
   "codemirror_mode": {
    "name": "ipython",
    "version": 3
   },
   "file_extension": ".py",
   "mimetype": "text/x-python",
   "name": "python",
   "nbconvert_exporter": "python",
   "pygments_lexer": "ipython3",
   "version": "3.7.4"
  }
 },
 "nbformat": 4,
 "nbformat_minor": 2
}
